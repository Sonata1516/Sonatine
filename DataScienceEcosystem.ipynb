{
 "cells": [
  {
   "cell_type": "markdown",
   "id": "ce601e06",
   "metadata": {},
   "source": [
    "# **Data Science Tools and Ecosystem**"
   ]
  },
  {
   "cell_type": "markdown",
   "id": "9c3d0660",
   "metadata": {},
   "source": [
    "###  In this notebook, Data Science Tools and Ecosystem are summarized. ###\n"
   ]
  },
  {
   "cell_type": "markdown",
   "id": "f861ae5c",
   "metadata": {},
   "source": [
    "### **Some of the popular languages that Data Scientists use are:**"
   ]
  },
  {
   "cell_type": "markdown",
   "id": "d9c1977b",
   "metadata": {},
   "source": [
    "###### 1. Pyton;\n",
    "###### 2. R;\n",
    "###### 3. Scala;\n",
    "###### 4. Java;\n",
    "###### 5. C++;\n",
    "###### 6. JavaScript;\n",
    "###### 7. Julia;\n",
    "###### 8. Visual Basic."
   ]
  },
  {
   "cell_type": "markdown",
   "id": "6c2749ea",
   "metadata": {},
   "source": [
    "### **Some of the commonly used libraries used by Data Scientists include:**"
   ]
  },
  {
   "cell_type": "markdown",
   "id": "0e0b24d9",
   "metadata": {},
   "source": [
    "###### 1. Pyton libraries:\n",
    "###### - Scientific computing Libraries(Pandas, NumPy);\n",
    "###### - Visualization(Matplotlib, Seaborn);\n",
    "###### - Machine Learning and Deep Learning(Scikit-learn, Keras);\n",
    "###### - Deep Learning(TensorFlow, Pytorch);\n",
    "###### 2. Scala libraries:\n",
    "###### - Vegas(for statistical data visualization);\n",
    "###### - Big DL;\n",
    "###### 3. R libraries:\n",
    "###### - ggplot2."
   ]
  },
  {
   "cell_type": "markdown",
   "id": "8576f345",
   "metadata": {},
   "source": [
    "|  Data Science Tools       |\n",
    "|:--------------------------|\n",
    "|mongoDB,cassandra, hadoop  |\n",
    "|__________________________ |\n",
    "|Apache Airflow, RbdtFlow   |\n",
    "|__________________________ |\n",
    "|Kafka, Spark SQL           |\n",
    "|__________________________ |\n",
    "|PixieDust,kibana, Superset |\n",
    "|__________________________ |\n",
    "|PredictionIO,Seldon        |\n",
    "|__________________________ |\n",
    "|ModelDB,Prometheus         |\n",
    "|__________________________ |\n",
    "|Git,GitHub,GitLab          |\n",
    "|__________________________ |\n",
    "|ApacheAtlas, Egeria        |\n",
    "|__________________________ |"
   ]
  },
  {
   "cell_type": "markdown",
   "id": "32173083",
   "metadata": {},
   "source": [
    "### Below are a few examples of evaluating arithmetic expressions in Python"
   ]
  },
  {
   "cell_type": "code",
   "execution_count": 13,
   "id": "5ebdb7c5",
   "metadata": {},
   "outputs": [
    {
     "name": "stdout",
     "output_type": "stream",
     "text": [
      "5\n",
      "25\n"
     ]
    }
   ],
   "source": [
    "x = min(5, 10, 25)\n",
    "y = max(5, 10, 25)\n",
    "print(x)\n",
    "print(y)"
   ]
  },
  {
   "cell_type": "markdown",
   "id": "73e6b610",
   "metadata": {},
   "source": [
    "```python\n",
    "x = min(5, 10, 25)\n",
    "y = max(5, 10, 25)\n",
    "print(x)\n",
    "print(y)\n",
    "```"
   ]
  },
  {
   "cell_type": "code",
   "execution_count": 14,
   "id": "bf79210a",
   "metadata": {},
   "outputs": [
    {
     "name": "stdout",
     "output_type": "stream",
     "text": [
      "2\n"
     ]
    }
   ],
   "source": [
    "\n",
    "s = 1+1\n",
    "print (s)\n"
   ]
  },
  {
   "cell_type": "markdown",
   "id": "69ed568f",
   "metadata": {},
   "source": [
    "```python\n",
    "s = 1+1\n",
    "print (s)\n",
    "```"
   ]
  },
  {
   "cell_type": "code",
   "execution_count": 15,
   "id": "d0050102",
   "metadata": {},
   "outputs": [
    {
     "name": "stdout",
     "output_type": "stream",
     "text": [
      "17\n"
     ]
    }
   ],
   "source": [
    "# This a simple arithmetic expression to mutiply then add integers\n",
    "x=(3*4)+5\n",
    "print(x)"
   ]
  },
  {
   "cell_type": "code",
   "execution_count": 16,
   "id": "a89742db",
   "metadata": {},
   "outputs": [
    {
     "name": "stdout",
     "output_type": "stream",
     "text": [
      "3.3333333333333335\n"
     ]
    }
   ],
   "source": [
    "# This will convert 200 minutes to hours by diving by 60\n",
    "x=200/60\n",
    "print(x)"
   ]
  },
  {
   "cell_type": "markdown",
   "id": "85132716",
   "metadata": {},
   "source": [
    "## **Objectives:**\n",
    "\n",
    "- Create a Jupyter Notebook with markdown and code cells\n",
    "- List examples of languages, libraries and tools used in Data Science\n",
    "- Share your Jupyter Notebook publicly on GitHub\n",
    "- Evaluate notebooks submitted by your peers using the provided rubric\n",
    "- Demonstrate proficiency in Data Science toolkit knowledge\n"
   ]
  },
  {
   "cell_type": "markdown",
   "id": "9faf4a59",
   "metadata": {},
   "source": [
    "## Author\n",
    "##### Nataliya Yeremenko"
   ]
  }
 ],
 "metadata": {
  "kernelspec": {
   "display_name": "Python 3 (ipykernel)",
   "language": "python",
   "name": "python3"
  },
  "language_info": {
   "codemirror_mode": {
    "name": "ipython",
    "version": 3
   },
   "file_extension": ".py",
   "mimetype": "text/x-python",
   "name": "python",
   "nbconvert_exporter": "python",
   "pygments_lexer": "ipython3",
   "version": "3.10.9"
  }
 },
 "nbformat": 4,
 "nbformat_minor": 5
}
